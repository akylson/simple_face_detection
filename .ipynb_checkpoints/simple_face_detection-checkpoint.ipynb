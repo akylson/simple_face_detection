{
 "cells": [
  {
   "cell_type": "code",
   "execution_count": 2,
   "id": "pregnant-singapore",
   "metadata": {},
   "outputs": [
    {
     "name": "stdout",
     "output_type": "stream",
     "text": [
      "The video was successfully saved\n"
     ]
    }
   ],
   "source": [
    "import cv2\n",
    "\n",
    "# Load the cascade\n",
    "face_cascade = cv2.CascadeClassifier('haarcascade_frontalface_default.xml')\n",
    "\n",
    "# To capture video from webcam. \n",
    "\n",
    "# To use a video file as input \n",
    "# cap = cv2.VideoCapture('filename.mp4')\n",
    "\n",
    "video = cv2.VideoCapture(0) \n",
    "if (video.isOpened() == False):  \n",
    "    print(\"Error reading video file\") \n",
    "frame_width = int(video.get(3)) \n",
    "frame_height = int(video.get(4)) \n",
    "   \n",
    "size = (frame_width, frame_height) \n",
    "result = cv2.VideoWriter('filename.avi',  \n",
    "                         cv2.VideoWriter_fourcc(*'MJPG'), \n",
    "                         10, size) \n",
    "while True:\n",
    "    \n",
    "    # Read the frame\n",
    "    _, img = video.read()\n",
    "    \n",
    "    \n",
    "    # Convert to grayscale\n",
    "    gray = cv2.cvtColor(img, cv2.COLOR_BGR2GRAY)\n",
    "    \n",
    "    \n",
    "    # Detect the faces\n",
    "    faces = face_cascade.detectMultiScale(gray, 1.1, 4)\n",
    "    \n",
    "    \n",
    "    # Draw the rectangle around each face\n",
    "    for (x, y, w, h) in faces:\n",
    "        cv2.rectangle(img, (x, y), (x+w, y+h), (255, 0, 0), 2)\n",
    "    \n",
    "    #Saving video to file\n",
    "    result.write(img) \n",
    "    \n",
    "    # Display\n",
    "    cv2.imshow('img', img)\n",
    "    \n",
    "    \n",
    "    # Stop if escape key is pressed\n",
    "    if cv2.waitKey(1) & 0xFF == ord('s'): \n",
    "            break\n",
    "            \n",
    "            \n",
    "# Release the VideoCapture object\n",
    "video.release()\n",
    "result.release()\n",
    "cv2.destroyAllWindows()\n",
    "print(\"The video was successfully saved\") "
   ]
  },
  {
   "cell_type": "code",
   "execution_count": null,
   "id": "sticky-equation",
   "metadata": {},
   "outputs": [],
   "source": []
  }
 ],
 "metadata": {
  "kernelspec": {
   "display_name": "Python 3",
   "language": "python",
   "name": "python3"
  },
  "language_info": {
   "codemirror_mode": {
    "name": "ipython",
    "version": 3
   },
   "file_extension": ".py",
   "mimetype": "text/x-python",
   "name": "python",
   "nbconvert_exporter": "python",
   "pygments_lexer": "ipython3",
   "version": "3.8.5"
  }
 },
 "nbformat": 4,
 "nbformat_minor": 5
}
